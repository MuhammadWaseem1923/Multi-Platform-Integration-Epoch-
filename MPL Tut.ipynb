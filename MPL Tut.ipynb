{
  "cells": [
    {
      "cell_type": "markdown",
      "metadata": {
        "id": "uux31IUcrs4T"
      },
      "source": [
        "## Matplotlib Tutorial"
      ]
    },
    {
      "cell_type": "markdown",
      "metadata": {
        "id": "ht3fFXe6rs4o"
      },
      "source": [
        "Matplotlib provides numerous ways to create static, animated and interactive visualizations. It is the most popular plotting library for Python. It works easily with both NumPy and Pandas arrays. Seaborn, which I'll cover in my next tutorial futher extends Matplotlib, but it is very important to learn both.\n",
        "\n",
        "You can install it with the command : conda install matplotlib or pip install matplotlib\n",
        "\n",
        "https://matplotlib.org/gallery/index.html is a great page to go to when you are looking for information on making a specific chart type."
      ]
    },
    {
      "cell_type": "markdown",
      "metadata": {
        "id": "czPNfVtErs4t"
      },
      "source": [
        "### Import"
      ]
    },
    {
      "cell_type": "code",
      "execution_count": null,
      "metadata": {
        "id": "8WetC_0qrs4v"
      },
      "outputs": [],
      "source": [
        "# Import Matplotlib and allow plots to show in the Jupyter Notebook\n",
        "import matplotlib.pyplot as plt\n",
        "%matplotlib inline\n",
        "# Import NumPy and Pandas\n",
        "import numpy as np\n",
        "import pandas as pd\n",
        "\n",
        "# Auto reloads notebook when changes are made\n",
        "%reload_ext autoreload\n",
        "%autoreload 2"
      ]
    },
    {
      "cell_type": "markdown",
      "metadata": {
        "id": "3gkeLZC5rs42"
      },
      "source": [
        "### Functional Plot"
      ]
    },
    {
      "cell_type": "code",
      "execution_count": null,
      "metadata": {
        "id": "cqTfeAVPrs45"
      },
      "outputs": [],
      "source": [
        "# Create x & y NumPy arrays (10 Floats from 0 to 5)\n",
        "# Any NumPy array will do for x & y points as long as you have \n",
        "# an equal number \n",
        "x_1 = np.linspace(0,5,10)\n",
        "y_1 = x_1**2\n",
        "# Display plot with x & y\n",
        "plt.plot(x_1, y_1)\n",
        "# Add a title\n",
        "plt.title('Days Squared Chart')\n",
        "# Add an X & Y Label\n",
        "plt.xlabel('Days')\n",
        "plt.ylabel('Days Squared')\n",
        "# If not in Jupyter Notebook use\n",
        "# plt.show()"
      ]
    },
    {
      "cell_type": "markdown",
      "metadata": {
        "id": "1rQoNgM9rs5A"
      },
      "source": [
        "### Print Multiple Plots"
      ]
    },
    {
      "cell_type": "code",
      "execution_count": null,
      "metadata": {
        "id": "C9z_Tu7urs5D"
      },
      "outputs": [],
      "source": [
        "# You can print multiple plots at once\n",
        "# Define the row and column to print the plot with a number assigned\n",
        "# to the plot\n",
        "plt.subplot(1,2,1)\n",
        "# Make the line red\n",
        "plt.plot(x_1,y_1,'r')\n",
        "\n",
        "plt.subplot(1,2,2)\n",
        "plt.plot(y_1,x_1,'b')"
      ]
    },
    {
      "cell_type": "markdown",
      "metadata": {
        "id": "j1i_b0W0rs5H"
      },
      "source": [
        "### Using Figure Objects"
      ]
    },
    {
      "cell_type": "code",
      "execution_count": null,
      "metadata": {
        "id": "xPcWFLZcrs5K"
      },
      "outputs": [],
      "source": [
        "# A figure is an object that contains all the plot elements\n",
        "# It can contain many axes\n",
        "# Define width & height in inches\n",
        "# Dots per inch\n",
        "fig_1 = plt.figure(figsize=(5,4),dpi=100)\n",
        "\n",
        "# Adds axes with a left, bottom, width and height that ranges from 0 to 1\n",
        "# which is the percent of the canvas you want to use\n",
        "axes_1 = fig_1.add_axes([0.1,0.1,0.9,0.9])\n",
        "\n",
        "# Set lables and title\n",
        "axes_1.set_xlabel('Days')\n",
        "axes_1.set_ylabel('Days Squared')\n",
        "axes_1.set_title('Days Squared Chart')\n",
        "# Plot on the axes (If you want a label associated with the legend\n",
        "# add it with label)\n",
        "axes_1.plot(x_1,y_1,label='x / x²')\n",
        "\n",
        "# You can plot to plots using the same axes\n",
        "axes_1.plot(y_1,x_1,label='x² / x')\n",
        "\n",
        "# Add the optional legend with a location number (best: 0, \n",
        "# upper right: 1, upper left: 2, lower left: 3, lower right: 4,\n",
        "# https://matplotlib.org/3.3.1/api/_as_gen/matplotlib.pyplot.legend.html)\n",
        "# or supply a tuple of x & y from lower left\n",
        "axes_1.legend(loc=0)\n",
        "\n",
        "# You can create axis inside of others\n",
        "axes_2 = fig_1.add_axes([0.45,0.45,0.4,0.3])\n",
        "axes_2.set_xlabel('Days')\n",
        "axes_2.set_ylabel('Days Squared')\n",
        "axes_2.set_title('Small Days Squared Chart')\n",
        "axes_2.plot(x_1,y_1,'r')\n",
        "\n",
        "# Add text to plot from central point of 0,0\n",
        "axes_2.text(0, 40, 'Message')\n"
      ]
    },
    {
      "cell_type": "markdown",
      "metadata": {
        "id": "R-ENjOz4rs5P"
      },
      "source": [
        "### SubPlots"
      ]
    },
    {
      "cell_type": "code",
      "execution_count": null,
      "metadata": {
        "id": "b-2eWuxIrs5S"
      },
      "outputs": [],
      "source": [
        "# You can define multiple plots with subplots and it handles creating\n",
        "# the axes objects\n",
        "# axes_2 is a list of axes objects\n",
        "fig_2, axes_2 = plt.subplots(figsize=(8,4), nrows=1, ncols=3)\n",
        "# Put space between plots\n",
        "plt.tight_layout()\n",
        "\n",
        "# You can access the plots by index\n",
        "axes_2[1].set_title('Plot 2')\n",
        "axes_2[1].set_xlabel('X')\n",
        "axes_2[1].set_ylabel('X Squared')\n",
        "axes_2[1].plot(x_1,y_1)"
      ]
    },
    {
      "cell_type": "markdown",
      "metadata": {
        "id": "0tD0t3ODrs5W"
      },
      "source": [
        "### Appearance Options"
      ]
    },
    {
      "cell_type": "code",
      "execution_count": null,
      "metadata": {
        "id": "ccpYuzkxrs5Z"
      },
      "outputs": [],
      "source": [
        "fig_3 = plt.figure(figsize=(6,4))\n",
        "axes_3 = fig_3.add_axes([0,0,1,1])\n",
        "\n",
        "# Default colors (b: blue, g: green, r: red, c: cyan, m: magenta,\n",
        "# y: yellow, k: black, w: white)\n",
        "# color=\"0.75\" creates a 75% gray\n",
        "# You can use hexcodes color=\"#eeefff\"\n",
        "# You can use color names found next like this color=\"burlywood\"\n",
        "# https://en.wikipedia.org/wiki/Web_colors\n",
        "# alpha defines the percentage of opacity\n",
        "\n",
        "# The default line width is 1, so to double it put in 2 and so forth\n",
        "\n",
        "# There are many line styles \n",
        "# matplotlib.org/3.1.0/gallery/lines_bars_and_markers/linestyles.html\n",
        "# You can also provide a sample like '-.'\n",
        "\n",
        "# Markers can mark your provided points on the graph\n",
        "# https://matplotlib.org/3.3.0/api/markers_api.html\n",
        "# You can change the markersize as well\n",
        "\n",
        "# markerfacecolor changes the marker fill color\n",
        "# markeredgecolor changes the marker stroke color\n",
        "# markeredgewidth changes the markers stroke size\n",
        "\n",
        "axes_3.plot(x_1,y_1,color='navy', alpha=.75, lw=2, ls='-.',\n",
        "           marker='o', markersize=7, markerfacecolor='y',\n",
        "           markeredgecolor='y', markeredgewidth=4)\n",
        "\n",
        "# Set the lower and upper bound of x & y axis\n",
        "axes_3.set_xlim([0,3])\n",
        "axes_3.set_ylim([0,8])\n",
        "\n",
        "# Add a grid, color, dashes(5pts 1 pt dashes separated by 2pt space)\n",
        "axes_3.grid(True, color='0.6', dashes=(5, 2, 1, 2))\n",
        "# Set grid background color\n",
        "axes_3.set_facecolor('#FAEBD7')\n"
      ]
    },
    {
      "cell_type": "markdown",
      "metadata": {
        "id": "6rwqXOorrs5e"
      },
      "source": [
        "### Save a Visualization to a File"
      ]
    },
    {
      "cell_type": "code",
      "execution_count": null,
      "metadata": {
        "id": "ViElx8QZrs5f"
      },
      "outputs": [],
      "source": [
        "# You can save your plots to numerous file types : png, pdf, ps, eps, svg, pgf, \n",
        "fig_3.savefig('1st_plot.png')"
      ]
    },
    {
      "cell_type": "markdown",
      "metadata": {
        "id": "-6LY2CtVrs5h"
      },
      "source": [
        "### Working with Pandas DataFrame"
      ]
    },
    {
      "cell_type": "code",
      "execution_count": null,
      "metadata": {
        "id": "TMuMnvULrs5i"
      },
      "outputs": [],
      "source": [
        "# Read in ice cream sales data\n",
        "ics_df = pd.read_csv('icecreamsales.csv')\n",
        "ics_df = ics_df.sort_values(by='Temperature')\n",
        "\n",
        "# Convert from Pandas to NumPy array\n",
        "np_arr = ics_df.values\n",
        "\n",
        "# Get x & y values and put in array\n",
        "x_2 = np_arr[:,0]\n",
        "y_2 = np_arr[:,1]\n",
        "\n",
        "fig_4 = plt.figure(figsize=(6,4))\n",
        "axes_4 = fig_4.add_axes([0,0,1,1])\n",
        "axes_4.set_title('Ice Cream Sales vs. Temperature')\n",
        "axes_4.set_xlabel('Temperature')\n",
        "axes_4.set_ylabel('Ice Cream Sales')\n",
        "axes_4.plot(x_2,y_2)\n",
        "\n",
        "# Add Annotations by supplying the x & y to point at and the position of the text\n",
        "# based off of lower left had corner being 0,0\n",
        "axes_4.annotate('Good Month', xy=(83, 536), xytext=(60, 520),\n",
        "             arrowprops=dict(facecolor='black', shrink=0.05),)\n",
        "\n",
        "# Add bars to the plot\n",
        "plt.bar(x_2,y_2)"
      ]
    },
    {
      "cell_type": "markdown",
      "metadata": {
        "id": "qR44GaGQrs5j"
      },
      "source": [
        "### TeX Markup"
      ]
    },
    {
      "cell_type": "code",
      "execution_count": null,
      "metadata": {
        "scrolled": true,
        "id": "8rN90J91rs5l"
      },
      "outputs": [],
      "source": [
        "# You can use a subset of TeX markup by placing text between $\n",
        "# matplotlib.org/tutorials/text/mathtext.html\n",
        "fig_5 = plt.figure(figsize=(5,4),dpi=100)\n",
        "axes_5 = fig_5.add_axes([0.1,0.1,0.9,0.9])\n",
        "\n",
        "# All listed plus kappa, iota, zeta, nu, rho, eta, xi, omicron, gamma, tau, phi, \n",
        "# chi, psi, delta (Capitalize the first letter for uppercase)\n",
        "axes_5.text(0, 23, \n",
        "            r'$\\alpha \\beta \\sigma \\omega \\epsilon \\mu \\pi \\theta \\lambda$', fontsize=18)\n",
        "# Subscripts, multiletter superscript, sum, fractions, binomial\n",
        "axes_5.text(0, 18, \n",
        "            r'$\\delta_i \\gamma^{ij} \\sum_{i=0}^\\infty x_i \\frac{3}{4} \\binom{3}{4}$', \n",
        "            fontsize=18)\n",
        "# Another fraction, sqrt, cbrt, trig functions : \n",
        "axes_5.text(0, 13, \n",
        "            r'$\\frac{8 - \\frac{x}{5}}{8} \\sqrt{9} \\sin(\\pi) \\sqrt[3]{8} \\acute a \\div$', \n",
        "            fontsize=18)\n",
        "axes_5.text(0, 8, \n",
        "            r'$\\bar a \\hat a \\tilde a \\vec a \\overline {a} \\lim_{x \\to 2} f(x) = 5$', \n",
        "            fontsize=18)\n",
        "axes_5.text(0, 3, \n",
        "            r'$\\geq \\leq \\ne$', \n",
        "            fontsize=18)\n",
        "axes_5.plot(x_1,y_1)\n"
      ]
    },
    {
      "cell_type": "markdown",
      "metadata": {
        "id": "u0yWJlpUrs5n"
      },
      "source": [
        "### Histograms"
      ]
    },
    {
      "cell_type": "code",
      "execution_count": null,
      "metadata": {
        "id": "F1evKMyVrs5p"
      },
      "outputs": [],
      "source": [
        "# Roll 2 6 sided dies get the sum and plot the histogram\n",
        "arr_1 = np.random.randint(1,7,5000)\n",
        "arr_2 = np.random.randint(1,7,5000)\n",
        "arr_3 = arr_1 + arr_2\n",
        "# Bins reprsent the number of options available 2 thru 12 = 11\n",
        "# Density returns the frequency of each bin\n",
        "# Range gets tuple with bin range interested in\n",
        "# cumulative=True use a cumulative distribution\n",
        "# histtype='step' genrates a line plot\n",
        "# orientation='horizontal' \n",
        "# color='orange' change bar color\n",
        "plt.hist(arr_3, bins=11, density=True, stacked=True)\n",
        "\n"
      ]
    },
    {
      "cell_type": "markdown",
      "metadata": {
        "id": "osIbSR_qrs5s"
      },
      "source": [
        "### Bar Charts"
      ]
    },
    {
      "cell_type": "code",
      "execution_count": null,
      "metadata": {
        "id": "5uqOzlNIrs5v"
      },
      "outputs": [],
      "source": [
        "# Analyze where France gets its electricity from\n",
        "x = ['Nuclear', 'Hydro', 'Coal', 'Gas', 'Solar', 'Wind', 'Other']\n",
        "per_1 = [71, 10, 3, 7, 2, 4, 3]\n",
        "# Chart variance in usage\n",
        "variance = [8, 3, 1, 3, 1, 2, 1]\n",
        "# barh makes horizontal chart\n",
        "# Also yerr, change error color with ecolor\n",
        "# plt.bar(x, per_1, color='purple', yerr=variance)\n",
        "\n",
        "# Show percentages of males & females in engineering\n",
        "m_eng = (76, 85, 86, 88, 93)\n",
        "f_eng = (24, 15, 14, 12, 7)\n",
        "\n",
        "# Get evenly spaced values for each interval\n",
        "spc = np.arange(5)\n",
        "\n",
        "# Plot bars for men & women\n",
        "# Can also add yerr, xerr, \n",
        "# plt.bar(spc, m_eng, width=0.45, label='Male', edgecolor='k')\n",
        "# plt.bar(spc + 0.45, f_eng, width=0.45, label='Female', edgecolor='k')\n",
        "\n",
        "# Define x tick names and place in middle of bars\n",
        "# plt.xticks(spc + 0.45 / 2, ('Aero', 'Chem', 'Civil', 'Elec', 'Mech'))\n",
        "\n",
        "# Plot teachers by sex\n",
        "t_type = ['Kind', 'Elem', 'Sec', 'Spec']\n",
        "m_teach = np.array([2, 20, 44, 14])\n",
        "f_teach = np.array([98, 80, 56, 86])\n",
        "ind = [x for x, _ in enumerate(t_type)]\n",
        "\n",
        "# Plot stacked bars for men and then women under\n",
        "plt.bar(ind, m_teach, width=0.45, label='Male', bottom=f_teach)\n",
        "plt.bar(ind, f_teach, width=0.45, label='Female')\n",
        "\n",
        "plt.legend(loc='lower right')"
      ]
    },
    {
      "cell_type": "markdown",
      "metadata": {
        "id": "fIyaFgTLrs5y"
      },
      "source": [
        "### Pie Charts"
      ]
    },
    {
      "cell_type": "code",
      "execution_count": null,
      "metadata": {
        "scrolled": true,
        "id": "z6OIdKd6rs5z"
      },
      "outputs": [],
      "source": [
        "import random\n",
        "\n",
        "fig_6 = plt.figure(figsize=(8,5),dpi=100)\n",
        "axes_6 = fig_6.add_axes([0.1,0.1,0.9,0.9])\n",
        "\n",
        "# Create a pie chart of the number of Pokemon by type\n",
        "types = ['Water', 'Normal', 'Flying', 'Grass', 'Psychic', 'Bug', 'Fire', 'Poison',\n",
        "'Ground', 'Rock', 'Fighting', 'Dark', 'Steel', 'Electric', 'Dragon', 'Fairy',\n",
        "'Ghost', 'Ice']\n",
        "poke_num = [133, 109, 101, 98, 85, 77, 68, 66, 65, 60, 57, 54, 53, 51, 50, 50, 46, 40]\n",
        "\n",
        "# Generate a random color array (Use lower values to make darkb)\n",
        "colors = []\n",
        "for i in range(18):\n",
        "    rgb = (random.uniform(0, .5), random.uniform(0, .5), random.uniform(0, .5))\n",
        "    colors.append(rgb)\n",
        "    \n",
        "# Explode biggest 1st slice\n",
        "explode = [0] * 18\n",
        "explode[0] = 0.2\n",
        "\n",
        "# Provide values, what to explode and by how much, labels, colors, pct for values,\n",
        "# whether to shadow, amount to rotate pie, pie text color\n",
        "wedges, texts, autotexts = plt.pie(poke_num, explode=explode, labels=types, colors=colors, \n",
        "                                   autopct='%1.0f%%', shadow=True, startangle=140, \n",
        "                                   textprops=dict(color=\"w\"))\n",
        "# Create legend to right and move off pie with 1-1.5 axes point width\n",
        "plt.legend(wedges, types, loc='right', bbox_to_anchor=(1, 0, 0.5, 1))\n"
      ]
    },
    {
      "cell_type": "markdown",
      "metadata": {
        "id": "M9CDWwwTrs51"
      },
      "source": [
        "### Plot Timeseries"
      ]
    },
    {
      "cell_type": "code",
      "execution_count": null,
      "metadata": {
        "id": "z5-KzfPArs52"
      },
      "outputs": [],
      "source": [
        "import datetime\n",
        "\n",
        "# I'll show other ways of doing this when I cover Matplotlib Finance\n",
        "# Get Yahoo GOOG csv file and convert to NumPy array\n",
        "# https://finance.yahoo.com/quote/GOOG/history/\n",
        "goog_data = pd.read_csv('GOOG.csv')\n",
        "goog_data_np = goog_data.to_numpy()\n",
        "# Get array of prices in 5th column\n",
        "goog_cp = goog_data_np[:,4]\n",
        "goog_cp\n",
        "\n",
        "# Get NumPy array with just weekdays between dates excluding holidays\n",
        "holidays = [datetime.datetime(2020,5,25), datetime.datetime(2020,8,19)]\n",
        "date_arr = pd.bdate_range(start='5/20/2020', end='8/19/2020', \n",
        "                          freq='C',\n",
        "                         holidays=holidays)\n",
        "date_arr_np = date_arr.to_numpy()\n",
        "\n",
        "fig_7 = plt.figure(figsize=(8,5),dpi=100)\n",
        "axes_7 = fig_7.add_axes([0.1,0.1,0.9,0.9])\n",
        "plt.plot(date_arr_np, goog_cp)"
      ]
    },
    {
      "cell_type": "markdown",
      "metadata": {
        "id": "tF0wnqTmrs54"
      },
      "source": [
        "### Tables"
      ]
    },
    {
      "cell_type": "code",
      "execution_count": null,
      "metadata": {
        "id": "zKiThVb4rs56"
      },
      "outputs": [],
      "source": [
        "# Format column data to 2 decimals\n",
        "goog_data['Open'] = pd.Series([round(val, 2) for val in goog_data['Open']], \n",
        "                              index = goog_data.index)\n",
        "goog_data['High'] = pd.Series([round(val, 2) for val in goog_data['High']], \n",
        "                              index = goog_data.index)\n",
        "goog_data['Low'] = pd.Series([round(val, 2) for val in goog_data['Low']], \n",
        "                              index = goog_data.index)\n",
        "goog_data['Close'] = pd.Series([round(val, 2) for val in goog_data['Close']], \n",
        "                              index = goog_data.index)\n",
        "goog_data['Adj Close'] = pd.Series([round(val, 2) for val in goog_data['Adj Close']], \n",
        "                              index = goog_data.index)\n",
        "\n",
        "# Get most recent last 5 days of stock data\n",
        "stk_data = goog_data[-5:]\n",
        "stk_data\n",
        "\n",
        "# Define headers\n",
        "col_head = ('Date','Open','High','Low','Close','Adj Close','Volume')\n",
        "\n",
        "stk_data_np = stk_data.to_numpy()\n",
        "stk_data_np\n",
        "\n",
        "# Add padding around cells in table\n",
        "plt.figure(linewidth=2, tight_layout={'pad':.5}, figsize=(5,3))\n",
        "\n",
        "# Get rid of axes and plot box\n",
        "axes_8 = plt.gca()\n",
        "axes_8.get_xaxis().set_visible(False)\n",
        "axes_8.get_yaxis().set_visible(False)\n",
        "plt.box(on=None)\n",
        "\n",
        "# np.full returns an array filled with 0.1\n",
        "# cm is a colormap object we are using to use a default blue color\n",
        "# matplotlib.org/3.1.0/tutorials/colors/colormaps.html\n",
        "ccolors = plt.cm.Blues(np.full(len(col_head), 0.2))\n",
        "\n",
        "# Receives data, loc, list of column headers, column header color as array of colors\n",
        "# You can also add rowLabel, rowColours, rowLoc: Text alignment\n",
        "the_table = plt.table(cellText=stk_data_np, loc='center', colLabels=col_head,\n",
        "                     colColours=ccolors)\n",
        "# Set table font size\n",
        "the_table.set_fontsize(14)\n",
        "the_table.scale(3, 2.5)\n"
      ]
    },
    {
      "cell_type": "markdown",
      "metadata": {
        "id": "YGeeyTyfrs5-"
      },
      "source": [
        "### Scatterplots"
      ]
    },
    {
      "cell_type": "code",
      "execution_count": null,
      "metadata": {
        "id": "RarkGKSFrs5_"
      },
      "outputs": [],
      "source": [
        "# Country array\n",
        "cnt_arr = np.array(['Australia','Brazil','Canada','Chile','France','Germany','Greece',\n",
        "                   'Iceland','India','Iran','Italy','Mexico','New Zealand','Nigeria',\n",
        "                   'Norway','Pakistan','Peru','Russia','Saudi Arabia','Singapore',\n",
        "                   'South Africa','Spain','Sweden','Turkey','UK','US'])\n",
        "# Death rate per 100k Coronavirus\n",
        "dr_arr = np.array([1.8,53,24.5,56.5,45.4,11.2,2.2,\n",
        "                   2.8,4,24.6,58.6,46.3,.5,.5,\n",
        "                   4.9,2.9,83.3,11,10.4,.5,\n",
        "                   21.5,61.6,56.9,7.3,62.4,52.9])\n",
        "# Daily confirmed cases (Tests)\n",
        "test_arr = np.array([110,7197,600,1862,1636,1103,35,\n",
        "                   10,295,1658,1226,2490,8,243,\n",
        "                   48,1395,1101,4447,1443,280,\n",
        "                   2830,1602,447,1205,1546,24988])\n",
        "# Dot size Confirmed cases\n",
        "cc_arr = np.array([24236,3456652,125408,390037,256534,229706,7684,\n",
        "                   2035,2836925,350279,255278,537031,1654,50488,\n",
        "                   10162,290445,549321,935066,302686,56031,\n",
        "                   596060,370867,85411,253108,323008,5529824])\n",
        "cc_arr_sm = cc_arr / 1000\n",
        "color_arr = np.random.rand(26)\n",
        "\n",
        "plt.title('Death Rate per 100k vs. Confirmed Cases')\n",
        "plt.xlabel('Death Rate per 100k')\n",
        "plt.ylabel('Confirmed Cases')\n",
        "plt.scatter(dr_arr,test_arr,s=cc_arr_sm,c=color_arr,alpha=0.5)"
      ]
    },
    {
      "cell_type": "markdown",
      "metadata": {
        "id": "farGZn7lrs6B"
      },
      "source": [
        "### 3D Surface"
      ]
    },
    {
      "cell_type": "code",
      "execution_count": null,
      "metadata": {
        "scrolled": true,
        "id": "23tLudiZrs6C"
      },
      "outputs": [],
      "source": [
        "# Needed for creating 3D axes\n",
        "from mpl_toolkits import mplot3d\n",
        "\n",
        "fig_9 = plt.figure(figsize=(8,5),dpi=100)\n",
        "axes_9 = fig_9.add_axes([0.1,0.1,0.9,0.9], projection='3d')\n",
        "\n",
        "# Create a 3D scatterplot\n",
        "# Te darker points are represented that way to seem closer to you\n",
        "z_3 = 15 * np.random.random(100)\n",
        "x_3 = np.sin(z_3) * np.random.randn(100)\n",
        "y_3 = np.cos(z_3) * np.random.randn(100)\n",
        "# axes_9.scatter3D(x_3, y_3, z_3, c=z_3, cmap='Blues')\n",
        "\n",
        "# You can create contour plots by defining a function for z based on x & y\n",
        "def get_z(x, y):\n",
        "    return np.sin(np.sqrt(x**2 + y**2))\n",
        "\n",
        "x_4 = np.linspace(-6, 6, 30)\n",
        "y_4 = np.linspace(-6, 6, 30)\n",
        "\n",
        "# Creates a rectangular grid out of 2 given 1D arrays\n",
        "x_4, y_4 = np.meshgrid(x_4, y_4)\n",
        "z_4 = get_z(x_4,y_4)\n",
        "\n",
        "# Change viewing angle to reorient camera 60 degrees and rotate 55\n",
        "axes_9.view_init(45,55)\n",
        "\n",
        "# Provide x, y, z, contours and color map\n",
        "# axes_9.contour3D(x_4,y_4,z_4,80,cmap='Blues')\n",
        "axes_9.set_xlabel('x')\n",
        "axes_9.set_ylabel('y')\n",
        "axes_9.set_zlabel('z')\n",
        "\n",
        "# You can create wireframes\n",
        "# axes_9.plot_wireframe(x_4,y_4,z_4,color='blue')\n",
        "\n",
        "# You can create surface plots which is wireframe with filled faces\n",
        "axes_9.plot_surface(x_4,y_4,z_4, rstride=1, cstride=1,cmap='Blues',edgecolor='none')"
      ]
    },
    {
      "cell_type": "markdown",
      "metadata": {
        "id": "LcuJ273prs6D"
      },
      "source": [
        "### Matplotlib Finance"
      ]
    },
    {
      "cell_type": "code",
      "execution_count": null,
      "metadata": {
        "id": "xq_-Vsg7rs6E"
      },
      "outputs": [],
      "source": [
        "# We need this module to handle the calculations\n",
        "import mplfinance as mpf\n",
        "\n",
        "# Get stock data as DataFrame and define index\n",
        "goog_df = pd.read_csv('GOOG.csv',index_col=0,parse_dates=True)\n",
        "goog_df.index.name = 'Date'\n",
        "\n",
        "goog_df.shape\n",
        "\n",
        "# A candlestick chart demonstrates the daily open, high, low and closing price of a stock\n",
        "# mpf.plot(goog_df,type='candle')\n",
        "\n",
        "# Plot price changes\n",
        "# mpf.plot(goog_df,type='line')\n",
        "\n",
        "# Moving averages provide trend information (Average of previous 4 observations)\n",
        "# mpf.plot(goog_df,type='ohlc',mav=4)\n",
        "\n",
        "# You can plot multiple MAVs, volume, non-trading days\n",
        "mpf.plot(goog_df,type='ohlc',mav=(3,5,7),volume=True,show_nontrading=True)\n",
        "\n",
        "# You can make additonal charts with intraday data"
      ]
    },
    {
      "cell_type": "markdown",
      "metadata": {
        "id": "HMSLRfaLrs6G"
      },
      "source": [
        "### Heatmaps"
      ]
    },
    {
      "cell_type": "code",
      "execution_count": null,
      "metadata": {
        "id": "Qtd-jWbGrs6I"
      },
      "outputs": [],
      "source": [
        "# A heatmap is a color coded representation of data from a 2D list\n",
        "symptoms = [\"Coronavirus\",\"Influenza\",\"Pneumonia\",\"Dyspnea\"]\n",
        "dates = [\"Jun28\",\"Jul05\",\"Jul12\",\"Jul19\",\"Jul26\",\"Aug02\",\"Aug09\",\"Aug16\",\"Aug21\"]\n",
        "symp_per = np.array([[5.2, 5.5, 5.7, 5.6, 5.3, 5.1, 5.0, 4.9, 5.3],\n",
        "                    [3.5, 4.0, 4.3, 3.9, 3.5, 3.2, 2.7, 2.2, 2.0],\n",
        "                    [1.8, 2.2, 2.3, 2.2, 2.1, 1.9, 1.7, 1.4, 1.3],\n",
        "                    [1.0, 1.1, 1.1, 1.0, 0.9, 0.8, 0.8, 0.8, 0.7]])\n",
        "\n",
        "fig_10, axes_10 = plt.subplots()\n",
        "# Dfine data to use and color map\n",
        "im = axes_10.imshow(symp_per, cmap=\"Wistia\")\n",
        "\n",
        "# Add ticks at data points and labels\n",
        "axes_10.set_xticks(np.arange(len(dates)))\n",
        "axes_10.set_yticks(np.arange(len(symptoms)))\n",
        "axes_10.set_xticklabels(dates)\n",
        "axes_10.set_yticklabels(symptoms)\n",
        "\n",
        "# Rotate labels on the bottom so they don't overlap\n",
        "plt.setp(axes_10.get_xticklabels(), rotation=45, ha=\"right\",\n",
        "         rotation_mode=\"anchor\")\n",
        "\n",
        "# Loop over data dimensions and create text annotations.\n",
        "for i in range(len(symptoms)):\n",
        "    for j in range(len(dates)):\n",
        "        text = axes_10.text(j, i, symp_per[i, j],\n",
        "                       ha=\"center\", va=\"center\", color=\"k\",fontweight=\"bold\")\n",
        "        \n"
      ]
    }
  ],
  "metadata": {
    "kernelspec": {
      "display_name": "Python 3",
      "language": "python",
      "name": "python3"
    },
    "language_info": {
      "codemirror_mode": {
        "name": "ipython",
        "version": 3
      },
      "file_extension": ".py",
      "mimetype": "text/x-python",
      "name": "python",
      "nbconvert_exporter": "python",
      "pygments_lexer": "ipython3",
      "version": "3.7.6"
    },
    "colab": {
      "name": "MPL Tut.ipynb",
      "provenance": []
    }
  },
  "nbformat": 4,
  "nbformat_minor": 0
}